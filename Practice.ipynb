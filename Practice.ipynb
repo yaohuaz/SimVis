{
 "cells": [
  {
   "cell_type": "markdown",
   "metadata": {},
   "source": [
    "SimVis Practice"
   ]
  },
  {
   "cell_type": "markdown",
   "execution_count": null,
   "metadata": {},
   "outputs": [],
   "source": [
    "STEP 1: Import Data"
   ]
  },
  {
   "cell_type": "code",
   "execution_count": 1,
   "metadata": {},
   "outputs": [],
   "source": [
    "import pandas as pd\n",
    "import glob\n",
    "import os"
   ]
  },
  {
   "cell_type": "code",
   "execution_count": 2,
   "metadata": {},
   "outputs": [
    {
     "name": "stdout",
     "output_type": "stream",
     "text": "/mnt/c/Users/Josh\n"
    }
   ],
   "source": [
    "cwd = os.getcwd()\n",
    "print(cwd)"
   ]
  },
  {
   "cell_type": "code",
   "execution_count": 3,
   "metadata": {},
   "outputs": [
    {
     "name": "stdout",
     "output_type": "stream",
     "text": "['SimVis/sample_data_1k/allergies.csv', 'SimVis/sample_data_1k/careplans.csv', 'SimVis/sample_data_1k/conditions.csv', 'SimVis/sample_data_1k/encounters.csv', 'SimVis/sample_data_1k/imaging_studies.csv', 'SimVis/sample_data_1k/immunizations.csv', 'SimVis/sample_data_1k/medications.csv', 'SimVis/sample_data_1k/organizations.csv', 'SimVis/sample_data_1k/patients.csv', 'SimVis/sample_data_1k/payers.csv', 'SimVis/sample_data_1k/payer_transitions.csv', 'SimVis/sample_data_1k/procedures.csv', 'SimVis/sample_data_1k/providers.csv']\n"
    }
   ],
   "source": [
    "files = glob.glob('SimVis/sample_data_1k/*.csv')\n",
    "print(files)"
   ]
  },
  {
   "cell_type": "code",
   "execution_count": 4,
   "metadata": {},
   "outputs": [],
   "source": [
    "filename = []\n",
    "for i in range(0,len(files),1):\n",
    "    x = files[i].rsplit(\".\",1)[0]\n",
    "    x = x.rsplit(\"/\",1)[1]\n",
    "    filename.append(x)"
   ]
  },
  {
   "cell_type": "code",
   "execution_count": 5,
   "metadata": {},
   "outputs": [],
   "source": [
    "d = {}\n",
    "for i in range(0,len(filename),1):\n",
    "    d[filename[i]] = pd.read_csv(files[i])"
   ]
  },
  {
   "cell_type": "code",
   "execution_count": 6,
   "metadata": {},
   "outputs": [
    {
     "name": "stdout",
     "output_type": "stream",
     "text": "allergies\ncareplans\nconditions\nencounters\nimaging_studies\nimmunizations\nmedications\norganizations\npatients\npayers\npayer_transitions\nprocedures\nproviders\n"
    }
   ],
   "source": [
    "for keys in d:\n",
    "    print(keys)"
   ]
  },
  {
   "cell_type": "code",
   "execution_count": 7,
   "metadata": {},
   "outputs": [
    {
     "name": "stdout",
     "output_type": "stream",
     "text": "<class 'pandas.core.frame.DataFrame'>\n"
    }
   ],
   "source": [
    "#print(d['medications'])\n",
    "print(type(d['medications']))"
   ]
  },
  {
   "cell_type": "code",
   "execution_count": 8,
   "metadata": {},
   "outputs": [
    {
     "name": "stdout",
     "output_type": "stream",
     "text": "START                                                       1995-11-16\nSTOP                                                               NaN\nPATIENT                           3603cd65-53a3-424b-bc82-76204326510d\nPAYER                             d47b3510-2895-3b70-9897-342d681c769d\nENCOUNTER                         f5ddf34a-85c6-4f03-9c82-34e25fde945d\nCODE                                                            999969\nDESCRIPTION          Amlodipine 5 MG / Hydrochlorothiazide 12.5 MG ...\nBASE_COST                                                       263.49\nPAYER_COVERAGE                                                       0\nDISPENSES                                                          290\nTOTALCOST                                                      76412.1\nREASONCODE                                                  5.9621e+07\nREASONDESCRIPTION                                         Hypertension\nName: 0, dtype: object\n"
    }
   ],
   "source": [
    "print(d['medications'].iloc[0])"
   ]
  },
  {
   "cell_type": "code",
   "execution_count": 9,
   "metadata": {},
   "outputs": [
    {
     "data": {
      "text/plain": "['START',\n 'STOP',\n 'PATIENT',\n 'PAYER',\n 'ENCOUNTER',\n 'CODE',\n 'DESCRIPTION',\n 'BASE_COST',\n 'PAYER_COVERAGE',\n 'DISPENSES',\n 'TOTALCOST',\n 'REASONCODE',\n 'REASONDESCRIPTION']"
     },
     "execution_count": 9,
     "metadata": {},
     "output_type": "execute_result"
    }
   ],
   "source": [
    "#Headers of table 'medications'\n",
    "list(d['medications'])"
   ]
  },
  {
   "cell_type": "markdown",
   "execution_count": null,
   "metadata": {},
   "outputs": [],
   "source": [
    "STEP 2:\n",
    "    In this step, we check the number of appearences of each feature across all tables, and the name of each table."
   ]
  },
  {
   "cell_type": "code",
   "execution_count": 10,
   "metadata": {},
   "outputs": [
    {
     "name": "stdout",
     "output_type": "stream",
     "text": "START [5, 'allergies', 'careplans', 'conditions', 'encounters', 'medications']\nSTOP [5, 'allergies', 'careplans', 'conditions', 'encounters', 'medications']\nPATIENT [9, 'allergies', 'careplans', 'conditions', 'encounters', 'imaging_studies', 'immunizations', 'medications', 'payer_transitions', 'procedures']\nENCOUNTER [7, 'allergies', 'careplans', 'conditions', 'imaging_studies', 'immunizations', 'medications', 'procedures']\nCODE [7, 'allergies', 'careplans', 'conditions', 'encounters', 'immunizations', 'medications', 'procedures']\nDESCRIPTION [7, 'allergies', 'careplans', 'conditions', 'encounters', 'immunizations', 'medications', 'procedures']\nId [7, 'careplans', 'encounters', 'imaging_studies', 'organizations', 'patients', 'payers', 'providers']\nREASONCODE [4, 'careplans', 'encounters', 'medications', 'procedures']\nREASONDESCRIPTION [4, 'careplans', 'encounters', 'medications', 'procedures']\nPROVIDER [1, 'encounters']\nPAYER [3, 'encounters', 'medications', 'payer_transitions']\nENCOUNTERCLASS [1, 'encounters']\nBASE_ENCOUNTER_COST [1, 'encounters']\nTOTAL_CLAIM_COST [1, 'encounters']\nPAYER_COVERAGE [2, 'encounters', 'medications']\nDATE [3, 'imaging_studies', 'immunizations', 'procedures']\nBODYSITE_CODE [1, 'imaging_studies']\nBODYSITE_DESCRIPTION [1, 'imaging_studies']\nMODALITY_CODE [1, 'imaging_studies']\nMODALITY_DESCRIPTION [1, 'imaging_studies']\nSOP_CODE [1, 'imaging_studies']\nSOP_DESCRIPTION [1, 'imaging_studies']\nBASE_COST [3, 'immunizations', 'medications', 'procedures']\nDISPENSES [1, 'medications']\nTOTALCOST [1, 'medications']\nNAME [3, 'organizations', 'payers', 'providers']\nADDRESS [4, 'organizations', 'patients', 'payers', 'providers']\nCITY [4, 'organizations', 'patients', 'payers', 'providers']\nSTATE [3, 'organizations', 'patients', 'providers']\nZIP [4, 'organizations', 'patients', 'payers', 'providers']\nLAT [3, 'organizations', 'patients', 'providers']\nLON [3, 'organizations', 'patients', 'providers']\nPHONE [2, 'organizations', 'payers']\nREVENUE [2, 'organizations', 'payers']\nUTILIZATION [2, 'organizations', 'providers']\nBIRTHDATE [1, 'patients']\nDEATHDATE [1, 'patients']\nSSN [1, 'patients']\nDRIVERS [1, 'patients']\nPASSPORT [1, 'patients']\nPREFIX [1, 'patients']\nFIRST [1, 'patients']\nLAST [1, 'patients']\nSUFFIX [1, 'patients']\nMAIDEN [1, 'patients']\nMARITAL [1, 'patients']\nRACE [1, 'patients']\nETHNICITY [1, 'patients']\nGENDER [2, 'patients', 'providers']\nBIRTHPLACE [1, 'patients']\nCOUNTY [1, 'patients']\nHEALTHCARE_EXPENSES [1, 'patients']\nHEALTHCARE_COVERAGE [1, 'patients']\nSTATE_HEADQUARTERED [1, 'payers']\nAMOUNT_COVERED [1, 'payers']\nAMOUNT_UNCOVERED [1, 'payers']\nCOVERED_ENCOUNTERS [1, 'payers']\nUNCOVERED_ENCOUNTERS [1, 'payers']\nCOVERED_MEDICATIONS [1, 'payers']\nUNCOVERED_MEDICATIONS [1, 'payers']\nCOVERED_PROCEDURES [1, 'payers']\nUNCOVERED_PROCEDURES [1, 'payers']\nCOVERED_IMMUNIZATIONS [1, 'payers']\nUNCOVERED_IMMUNIZATIONS [1, 'payers']\nUNIQUE_CUSTOMERS [1, 'payers']\nQOLS_AVG [1, 'payers']\nMEMBER_MONTHS [1, 'payers']\nSTART_YEAR [1, 'payer_transitions']\nEND_YEAR [1, 'payer_transitions']\nOWNERSHIP [1, 'payer_transitions']\nORGANIZATION [1, 'providers']\nSPECIALITY [1, 'providers']\n"
    }
   ],
   "source": [
    "#Check the appearences of same-name labels\n",
    "label = {}\n",
    "for keys in d:\n",
    "    header = list(d[keys])\n",
    "    for i in range(0,len(header),1):\n",
    "        if header[i] not in label:\n",
    "            label[header[i]] = [1]\n",
    "            label[header[i]].append(keys)\n",
    "        else:\n",
    "            label[header[i]][0] += 1\n",
    "            label[header[i]].append(keys)\n",
    "\n",
    "for key in label:\n",
    "    print(key, label[key])"
   ]
  },
  {
   "cell_type": "code",
   "execution_count": null,
   "metadata": {},
   "outputs": [],
   "source": []
  }
 ],
 "metadata": {
  "kernelspec": {
   "display_name": "Python 3",
   "language": "python",
   "name": "python3"
  },
  "language_info": {
   "codemirror_mode": {
    "name": "ipython",
    "version": 3
   },
   "file_extension": ".py",
   "mimetype": "text/x-python",
   "name": "python",
   "nbconvert_exporter": "python",
   "pygments_lexer": "ipython3",
   "version": "3.7.3"
  }
 },
 "nbformat": 4,
 "nbformat_minor": 2
}