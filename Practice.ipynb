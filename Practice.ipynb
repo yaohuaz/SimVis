{
 "cells": [
  {
   "cell_type": "markdown",
   "metadata": {},
   "source": [
    "SimVis Practice"
   ]
  },
  {
   "cell_type": "code",
   "execution_count": 29,
   "metadata": {},
   "outputs": [],
   "source": [
    "import pandas as pd\n",
    "import glob"
   ]
  },
  {
   "cell_type": "code",
   "execution_count": 30,
   "metadata": {},
   "outputs": [],
   "source": [
    "files = glob.glob('sample_data_1k/*.csv')"
   ]
  },
  {
   "cell_type": "code",
   "execution_count": 31,
   "metadata": {},
   "outputs": [],
   "source": [
    "filename = []\n",
    "for i in range(0,len(files),1):\n",
    "    x = files[i].rsplit(\".\",1)[0]\n",
    "    x = x.rsplit(\"/\",1)[1]\n",
    "    filename.append(x)"
   ]
  },
  {
   "cell_type": "code",
   "execution_count": 33,
   "metadata": {},
   "outputs": [],
   "source": [
    "d = {}\n",
    "for i in range(0,len(filename),1):\n",
    "    d[filename[i]] = pd.read_csv(files[i])"
   ]
  },
  {
   "cell_type": "code",
   "execution_count": 36,
   "metadata": {},
   "outputs": [
    {
     "name": "stdout",
     "output_type": "stream",
     "text": [
      "medications\n",
      "providers\n",
      "payer_transitions\n",
      "imaging_studies\n",
      "payers\n",
      "allergies\n",
      "procedures\n",
      "organizations\n",
      "conditions\n",
      "careplans\n",
      "encounters\n",
      "immunizations\n",
      "patients\n",
      "observations\n"
     ]
    }
   ],
   "source": [
    "for keys in d:\n",
    "    print(keys)"
   ]
  },
  {
   "cell_type": "code",
   "execution_count": 42,
   "metadata": {},
   "outputs": [
    {
     "name": "stdout",
     "output_type": "stream",
     "text": [
      "<class 'pandas.core.frame.DataFrame'>\n"
     ]
    }
   ],
   "source": [
    "#print(d['medications'])\n",
    "print(type(d['medications']))"
   ]
  },
  {
   "cell_type": "code",
   "execution_count": 43,
   "metadata": {},
   "outputs": [
    {
     "name": "stdout",
     "output_type": "stream",
     "text": [
      "START                                                       1995-11-16\n",
      "STOP                                                               NaN\n",
      "PATIENT                           3603cd65-53a3-424b-bc82-76204326510d\n",
      "PAYER                             d47b3510-2895-3b70-9897-342d681c769d\n",
      "ENCOUNTER                         f5ddf34a-85c6-4f03-9c82-34e25fde945d\n",
      "CODE                                                            999969\n",
      "DESCRIPTION          Amlodipine 5 MG / Hydrochlorothiazide 12.5 MG ...\n",
      "BASE_COST                                                       263.49\n",
      "PAYER_COVERAGE                                                       0\n",
      "DISPENSES                                                          290\n",
      "TOTALCOST                                                      76412.1\n",
      "REASONCODE                                                  5.9621e+07\n",
      "REASONDESCRIPTION                                         Hypertension\n",
      "Name: 0, dtype: object\n"
     ]
    }
   ],
   "source": [
    "print(d['medications'].iloc[0])"
   ]
  },
  {
   "cell_type": "code",
   "execution_count": 44,
   "metadata": {},
   "outputs": [
    {
     "data": {
      "text/plain": [
       "['START',\n",
       " 'STOP',\n",
       " 'PATIENT',\n",
       " 'PAYER',\n",
       " 'ENCOUNTER',\n",
       " 'CODE',\n",
       " 'DESCRIPTION',\n",
       " 'BASE_COST',\n",
       " 'PAYER_COVERAGE',\n",
       " 'DISPENSES',\n",
       " 'TOTALCOST',\n",
       " 'REASONCODE',\n",
       " 'REASONDESCRIPTION']"
      ]
     },
     "execution_count": 44,
     "metadata": {},
     "output_type": "execute_result"
    }
   ],
   "source": [
    "list(d['medications'])"
   ]
  },
  {
   "cell_type": "code",
   "execution_count": null,
   "metadata": {},
   "outputs": [],
   "source": []
  }
 ],
 "metadata": {
  "kernelspec": {
   "display_name": "Python 3",
   "language": "python",
   "name": "python3"
  },
  "language_info": {
   "codemirror_mode": {
    "name": "ipython",
    "version": 3
   },
   "file_extension": ".py",
   "mimetype": "text/x-python",
   "name": "python",
   "nbconvert_exporter": "python",
   "pygments_lexer": "ipython3",
   "version": "3.7.3"
  }
 },
 "nbformat": 4,
 "nbformat_minor": 2
}
