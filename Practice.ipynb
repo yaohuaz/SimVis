{
 "cells": [
  {
   "cell_type": "markdown",
   "metadata": {},
   "source": [
    "SimVis Practice"
   ]
  },
  {
   "cell_type": "markdown",
   "execution_count": null,
   "metadata": {},
   "outputs": [],
   "source": [
    "STEP 1: Import Data"
   ]
  },
  {
   "cell_type": "code",
   "execution_count": 1,
   "metadata": {},
   "outputs": [],
   "source": [
    "import pandas as pd\n",
    "import glob\n",
    "import os"
   ]
  },
  {
   "cell_type": "code",
   "execution_count": 2,
   "metadata": {},
   "outputs": [
    {
     "name": "stdout",
     "output_type": "stream",
     "text": "/Users/yaohuazhao/SimVis\n"
    }
   ],
   "source": [
    "cwd = os.getcwd()\n",
    "print(cwd)"
   ]
  },
  {
   "cell_type": "code",
   "execution_count": 8,
   "metadata": {},
   "outputs": [
    {
     "name": "stdout",
     "output_type": "stream",
     "text": "['sample_data_1k/medications.csv', 'sample_data_1k/providers.csv', 'sample_data_1k/payer_transitions.csv', 'sample_data_1k/imaging_studies.csv', 'sample_data_1k/payers.csv', 'sample_data_1k/allergies.csv', 'sample_data_1k/procedures.csv', 'sample_data_1k/organizations.csv', 'sample_data_1k/conditions.csv', 'sample_data_1k/careplans.csv', 'sample_data_1k/encounters.csv', 'sample_data_1k/immunizations.csv', 'sample_data_1k/patients.csv']\n"
    }
   ],
   "source": [
    "files = glob.glob('sample_data_1k/*.csv')\n",
    "print(files)"
   ]
  },
  {
   "cell_type": "code",
   "execution_count": 9,
   "metadata": {},
   "outputs": [],
   "source": [
    "filename = []\n",
    "for i in range(0,len(files),1):\n",
    "    x = files[i].rsplit(\".\",1)[0]\n",
    "    x = x.rsplit(\"/\",1)[1]\n",
    "    filename.append(x)"
   ]
  },
  {
   "cell_type": "code",
   "execution_count": 10,
   "metadata": {},
   "outputs": [],
   "source": [
    "d = {}\n",
    "for i in range(0,len(filename),1):\n",
    "    d[filename[i]] = pd.read_csv(files[i])"
   ]
  },
  {
   "cell_type": "code",
   "execution_count": 11,
   "metadata": {},
   "outputs": [
    {
     "name": "stdout",
     "output_type": "stream",
     "text": "medications\nproviders\npayer_transitions\nimaging_studies\npayers\nallergies\nprocedures\norganizations\nconditions\ncareplans\nencounters\nimmunizations\npatients\n"
    }
   ],
   "source": [
    "for keys in d:\n",
    "    print(keys)"
   ]
  },
  {
   "cell_type": "code",
   "execution_count": 12,
   "metadata": {},
   "outputs": [
    {
     "name": "stdout",
     "output_type": "stream",
     "text": "<class 'pandas.core.frame.DataFrame'>\n"
    }
   ],
   "source": [
    "#print(d['medications'])\n",
    "print(type(d['medications']))"
   ]
  },
  {
   "cell_type": "code",
   "execution_count": 8,
   "metadata": {},
   "outputs": [
    {
     "name": "stdout",
     "output_type": "stream",
     "text": "START                                                       1995-11-16\nSTOP                                                               NaN\nPATIENT                           3603cd65-53a3-424b-bc82-76204326510d\nPAYER                             d47b3510-2895-3b70-9897-342d681c769d\nENCOUNTER                         f5ddf34a-85c6-4f03-9c82-34e25fde945d\nCODE                                                            999969\nDESCRIPTION          Amlodipine 5 MG / Hydrochlorothiazide 12.5 MG ...\nBASE_COST                                                       263.49\nPAYER_COVERAGE                                                       0\nDISPENSES                                                          290\nTOTALCOST                                                      76412.1\nREASONCODE                                                  5.9621e+07\nREASONDESCRIPTION                                         Hypertension\nName: 0, dtype: object\n"
    }
   ],
   "source": [
    "print(d['medications'].iloc[0])"
   ]
  },
  {
   "cell_type": "code",
   "execution_count": 13,
   "metadata": {},
   "outputs": [
    {
     "data": {
      "text/plain": "['START',\n 'STOP',\n 'PATIENT',\n 'PAYER',\n 'ENCOUNTER',\n 'CODE',\n 'DESCRIPTION',\n 'BASE_COST',\n 'PAYER_COVERAGE',\n 'DISPENSES',\n 'TOTALCOST',\n 'REASONCODE',\n 'REASONDESCRIPTION']"
     },
     "execution_count": 13,
     "metadata": {},
     "output_type": "execute_result"
    }
   ],
   "source": [
    "#Headers of table 'medications'\n",
    "list(d['medications'])"
   ]
  },
  {
   "cell_type": "markdown",
   "execution_count": null,
   "metadata": {},
   "outputs": [],
   "source": [
    "STEP 2:\n",
    "    In this step, we check the number of appearences of each feature across all tables, and the name of each table."
   ]
  },
  {
   "cell_type": "code",
   "execution_count": 14,
   "metadata": {},
   "outputs": [
    {
     "name": "stdout",
     "output_type": "stream",
     "text": "START [5, 'medications', 'allergies', 'conditions', 'careplans', 'encounters']\nSTOP [5, 'medications', 'allergies', 'conditions', 'careplans', 'encounters']\nPATIENT [9, 'medications', 'payer_transitions', 'imaging_studies', 'allergies', 'procedures', 'conditions', 'careplans', 'encounters', 'immunizations']\nPAYER [3, 'medications', 'payer_transitions', 'encounters']\nENCOUNTER [7, 'medications', 'imaging_studies', 'allergies', 'procedures', 'conditions', 'careplans', 'immunizations']\nCODE [7, 'medications', 'allergies', 'procedures', 'conditions', 'careplans', 'encounters', 'immunizations']\nDESCRIPTION [7, 'medications', 'allergies', 'procedures', 'conditions', 'careplans', 'encounters', 'immunizations']\nBASE_COST [3, 'medications', 'procedures', 'immunizations']\nPAYER_COVERAGE [2, 'medications', 'encounters']\nDISPENSES [1, 'medications']\nTOTALCOST [1, 'medications']\nREASONCODE [4, 'medications', 'procedures', 'careplans', 'encounters']\nREASONDESCRIPTION [4, 'medications', 'procedures', 'careplans', 'encounters']\nId [7, 'providers', 'imaging_studies', 'payers', 'organizations', 'careplans', 'encounters', 'patients']\nORGANIZATION [1, 'providers']\nNAME [3, 'providers', 'payers', 'organizations']\nGENDER [2, 'providers', 'patients']\nSPECIALITY [1, 'providers']\nADDRESS [4, 'providers', 'payers', 'organizations', 'patients']\nCITY [4, 'providers', 'payers', 'organizations', 'patients']\nSTATE [3, 'providers', 'organizations', 'patients']\nZIP [4, 'providers', 'payers', 'organizations', 'patients']\nLAT [3, 'providers', 'organizations', 'patients']\nLON [3, 'providers', 'organizations', 'patients']\nUTILIZATION [2, 'providers', 'organizations']\nSTART_YEAR [1, 'payer_transitions']\nEND_YEAR [1, 'payer_transitions']\nOWNERSHIP [1, 'payer_transitions']\nDATE [3, 'imaging_studies', 'procedures', 'immunizations']\nBODYSITE_CODE [1, 'imaging_studies']\nBODYSITE_DESCRIPTION [1, 'imaging_studies']\nMODALITY_CODE [1, 'imaging_studies']\nMODALITY_DESCRIPTION [1, 'imaging_studies']\nSOP_CODE [1, 'imaging_studies']\nSOP_DESCRIPTION [1, 'imaging_studies']\nSTATE_HEADQUARTERED [1, 'payers']\nPHONE [2, 'payers', 'organizations']\nAMOUNT_COVERED [1, 'payers']\nAMOUNT_UNCOVERED [1, 'payers']\nREVENUE [2, 'payers', 'organizations']\nCOVERED_ENCOUNTERS [1, 'payers']\nUNCOVERED_ENCOUNTERS [1, 'payers']\nCOVERED_MEDICATIONS [1, 'payers']\nUNCOVERED_MEDICATIONS [1, 'payers']\nCOVERED_PROCEDURES [1, 'payers']\nUNCOVERED_PROCEDURES [1, 'payers']\nCOVERED_IMMUNIZATIONS [1, 'payers']\nUNCOVERED_IMMUNIZATIONS [1, 'payers']\nUNIQUE_CUSTOMERS [1, 'payers']\nQOLS_AVG [1, 'payers']\nMEMBER_MONTHS [1, 'payers']\nPROVIDER [1, 'encounters']\nENCOUNTERCLASS [1, 'encounters']\nBASE_ENCOUNTER_COST [1, 'encounters']\nTOTAL_CLAIM_COST [1, 'encounters']\nBIRTHDATE [1, 'patients']\nDEATHDATE [1, 'patients']\nSSN [1, 'patients']\nDRIVERS [1, 'patients']\nPASSPORT [1, 'patients']\nPREFIX [1, 'patients']\nFIRST [1, 'patients']\nLAST [1, 'patients']\nSUFFIX [1, 'patients']\nMAIDEN [1, 'patients']\nMARITAL [1, 'patients']\nRACE [1, 'patients']\nETHNICITY [1, 'patients']\nBIRTHPLACE [1, 'patients']\nCOUNTY [1, 'patients']\nHEALTHCARE_EXPENSES [1, 'patients']\nHEALTHCARE_COVERAGE [1, 'patients']\n"
    }
   ],
   "source": [
    "#Check the appearences of same-name labels\n",
    "label = {}\n",
    "for keys in d:\n",
    "    header = list(d[keys])\n",
    "    for i in range(0,len(header),1):\n",
    "        if header[i] not in label:\n",
    "            label[header[i]] = [1]\n",
    "            label[header[i]].append(keys)\n",
    "        else:\n",
    "            label[header[i]][0] += 1\n",
    "            label[header[i]].append(keys)\n",
    "\n",
    "for key in label:\n",
    "    print(key, label[key])"
   ]
  },
  {
   "cell_type": "code",
   "execution_count": 17,
   "metadata": {},
   "outputs": [
    {
     "name": "stdout",
     "output_type": "stream",
     "text": "medications ['START', 'STOP', 'PATIENT', 'PAYER', 'ENCOUNTER', 'CODE', 'DESCRIPTION', 'BASE_COST', 'PAYER_COVERAGE', 'DISPENSES', 'TOTALCOST', 'REASONCODE', 'REASONDESCRIPTION']\nproviders ['Id', 'ORGANIZATION', 'NAME', 'GENDER', 'SPECIALITY', 'ADDRESS', 'CITY', 'STATE', 'ZIP', 'LAT', 'LON', 'UTILIZATION']\npayer_transitions ['PATIENT', 'START_YEAR', 'END_YEAR', 'PAYER', 'OWNERSHIP']\nimaging_studies ['Id', 'DATE', 'PATIENT', 'ENCOUNTER', 'BODYSITE_CODE', 'BODYSITE_DESCRIPTION', 'MODALITY_CODE', 'MODALITY_DESCRIPTION', 'SOP_CODE', 'SOP_DESCRIPTION']\npayers ['Id', 'NAME', 'ADDRESS', 'CITY', 'STATE_HEADQUARTERED', 'ZIP', 'PHONE', 'AMOUNT_COVERED', 'AMOUNT_UNCOVERED', 'REVENUE', 'COVERED_ENCOUNTERS', 'UNCOVERED_ENCOUNTERS', 'COVERED_MEDICATIONS', 'UNCOVERED_MEDICATIONS', 'COVERED_PROCEDURES', 'UNCOVERED_PROCEDURES', 'COVERED_IMMUNIZATIONS', 'UNCOVERED_IMMUNIZATIONS', 'UNIQUE_CUSTOMERS', 'QOLS_AVG', 'MEMBER_MONTHS']\nallergies ['START', 'STOP', 'PATIENT', 'ENCOUNTER', 'CODE', 'DESCRIPTION']\nprocedures ['DATE', 'PATIENT', 'ENCOUNTER', 'CODE', 'DESCRIPTION', 'BASE_COST', 'REASONCODE', 'REASONDESCRIPTION']\norganizations ['Id', 'NAME', 'ADDRESS', 'CITY', 'STATE', 'ZIP', 'LAT', 'LON', 'PHONE', 'REVENUE', 'UTILIZATION']\nconditions ['START', 'STOP', 'PATIENT', 'ENCOUNTER', 'CODE', 'DESCRIPTION']\ncareplans ['Id', 'START', 'STOP', 'PATIENT', 'ENCOUNTER', 'CODE', 'DESCRIPTION', 'REASONCODE', 'REASONDESCRIPTION']\nencounters ['Id', 'START', 'STOP', 'PATIENT', 'PROVIDER', 'PAYER', 'ENCOUNTERCLASS', 'CODE', 'DESCRIPTION', 'BASE_ENCOUNTER_COST', 'TOTAL_CLAIM_COST', 'PAYER_COVERAGE', 'REASONCODE', 'REASONDESCRIPTION']\nimmunizations ['DATE', 'PATIENT', 'ENCOUNTER', 'CODE', 'DESCRIPTION', 'BASE_COST']\npatients ['Id', 'BIRTHDATE', 'DEATHDATE', 'SSN', 'DRIVERS', 'PASSPORT', 'PREFIX', 'FIRST', 'LAST', 'SUFFIX', 'MAIDEN', 'MARITAL', 'RACE', 'ETHNICITY', 'GENDER', 'BIRTHPLACE', 'ADDRESS', 'CITY', 'STATE', 'COUNTY', 'ZIP', 'LAT', 'LON', 'HEALTHCARE_EXPENSES', 'HEALTHCARE_COVERAGE']\n"
    }
   ],
   "source": [
    "for key, value in d.items():\n",
    "        print(key, list(value))"
   ]
  },
  {
   "cell_type": "code",
   "execution_count": 22,
   "metadata": {},
   "outputs": [
    {
     "ename": "ValueError",
     "evalue": "Can only compare identically-labeled Series objects",
     "output_type": "error",
     "traceback": [
      "\u001b[0;31m---------------------------------------------------------------------------\u001b[0m",
      "\u001b[0;31mValueError\u001b[0m                                Traceback (most recent call last)",
      "\u001b[0;32m<ipython-input-22-678c6692da79>\u001b[0m in \u001b[0;36m<module>\u001b[0;34m\u001b[0m\n\u001b[0;32m----> 1\u001b[0;31m \u001b[0md\u001b[0m\u001b[0;34m[\u001b[0m\u001b[0;34m'allergies'\u001b[0m\u001b[0;34m]\u001b[0m\u001b[0;34m[\u001b[0m\u001b[0;34m'PATIENT'\u001b[0m\u001b[0;34m]\u001b[0m\u001b[0;34m==\u001b[0m\u001b[0md\u001b[0m\u001b[0;34m[\u001b[0m\u001b[0;34m'medications'\u001b[0m\u001b[0;34m]\u001b[0m\u001b[0;34m[\u001b[0m\u001b[0;34m'PATIENT'\u001b[0m\u001b[0;34m]\u001b[0m\u001b[0;34m\u001b[0m\u001b[0;34m\u001b[0m\u001b[0m\n\u001b[0m",
      "\u001b[0;32m~/anaconda3/lib/python3.7/site-packages/pandas/core/ops.py\u001b[0m in \u001b[0;36mwrapper\u001b[0;34m(self, other, axis)\u001b[0m\n\u001b[1;32m   1674\u001b[0m \u001b[0;34m\u001b[0m\u001b[0m\n\u001b[1;32m   1675\u001b[0m         \u001b[0;32melif\u001b[0m \u001b[0misinstance\u001b[0m\u001b[0;34m(\u001b[0m\u001b[0mother\u001b[0m\u001b[0;34m,\u001b[0m \u001b[0mABCSeries\u001b[0m\u001b[0;34m)\u001b[0m \u001b[0;32mand\u001b[0m \u001b[0;32mnot\u001b[0m \u001b[0mself\u001b[0m\u001b[0;34m.\u001b[0m\u001b[0m_indexed_same\u001b[0m\u001b[0;34m(\u001b[0m\u001b[0mother\u001b[0m\u001b[0;34m)\u001b[0m\u001b[0;34m:\u001b[0m\u001b[0;34m\u001b[0m\u001b[0;34m\u001b[0m\u001b[0m\n\u001b[0;32m-> 1676\u001b[0;31m             raise ValueError(\"Can only compare identically-labeled \"\n\u001b[0m\u001b[1;32m   1677\u001b[0m                              \"Series objects\")\n\u001b[1;32m   1678\u001b[0m \u001b[0;34m\u001b[0m\u001b[0m\n",
      "\u001b[0;31mValueError\u001b[0m: Can only compare identically-labeled Series objects"
     ]
    }
   ],
   "source": [
    "d['allergies']['PATIENT']==d['medications']['PATIENT']"
   ]
  },
  {
   "cell_type": "code",
   "execution_count": 26,
   "metadata": {},
   "outputs": [
    {
     "data": {
      "text/plain": "(4394, 18)"
     },
     "execution_count": 26,
     "metadata": {},
     "output_type": "execute_result"
    }
   ],
   "source": [
    "x = pd.merge(d['allergies'],d['medications'],on='PATIENT')\n",
    "x.shape"
   ]
  },
  {
   "cell_type": "code",
   "execution_count": 27,
   "metadata": {},
   "outputs": [
    {
     "data": {
      "text/html": "<div>\n<style scoped>\n    .dataframe tbody tr th:only-of-type {\n        vertical-align: middle;\n    }\n\n    .dataframe tbody tr th {\n        vertical-align: top;\n    }\n\n    .dataframe thead th {\n        text-align: right;\n    }\n</style>\n<table border=\"1\" class=\"dataframe\">\n  <thead>\n    <tr style=\"text-align: right;\">\n      <th></th>\n      <th>Id</th>\n      <th>ORGANIZATION</th>\n      <th>NAME</th>\n      <th>GENDER</th>\n      <th>SPECIALITY</th>\n      <th>ADDRESS</th>\n      <th>CITY</th>\n      <th>STATE</th>\n      <th>ZIP</th>\n      <th>LAT</th>\n      <th>LON</th>\n      <th>UTILIZATION</th>\n    </tr>\n  </thead>\n  <tbody>\n    <tr>\n      <th>0</th>\n      <td>0000016d-3a85-4cca-0000-000000000000</td>\n      <td>ef58ea08-d883-3957-8300-150554edc8fb</td>\n      <td>Beatriz277 Ortega866</td>\n      <td>F</td>\n      <td>GENERAL PRACTICE</td>\n      <td>60 HOSPITAL ROAD</td>\n      <td>LEOMINSTER</td>\n      <td>MA</td>\n      <td>01453</td>\n      <td>42.520838</td>\n      <td>-71.770876</td>\n      <td>478</td>\n    </tr>\n    <tr>\n      <th>1</th>\n      <td>0000016d-3a85-4cca-0000-00000000000a</td>\n      <td>69176529-fd1f-3b3f-abce-a0a3626769eb</td>\n      <td>Buford910 Feil794</td>\n      <td>M</td>\n      <td>GENERAL PRACTICE</td>\n      <td>330 MOUNT AUBURN STREET</td>\n      <td>CAMBRIDGE</td>\n      <td>MA</td>\n      <td>02138</td>\n      <td>42.375967</td>\n      <td>-71.118275</td>\n      <td>1199</td>\n    </tr>\n    <tr>\n      <th>2</th>\n      <td>0000016d-3a85-4cca-0000-000000000014</td>\n      <td>5e765f2b-e908-3888-9fc7-df2cb87beb58</td>\n      <td>Therese102 Bahringer146</td>\n      <td>F</td>\n      <td>GENERAL PRACTICE</td>\n      <td>211 PARK STREET</td>\n      <td>ATTLEBORO</td>\n      <td>MA</td>\n      <td>02703</td>\n      <td>41.931653</td>\n      <td>-71.294503</td>\n      <td>1348</td>\n    </tr>\n    <tr>\n      <th>3</th>\n      <td>0000016d-3a85-4cca-0000-00000000001e</td>\n      <td>f1fbcbfb-fcfa-3bd2-b7f4-df20f1b3c3a4</td>\n      <td>Cedrick207 Lind531</td>\n      <td>M</td>\n      <td>GENERAL PRACTICE</td>\n      <td>ONE GENERAL STREET</td>\n      <td>LAWRENCE</td>\n      <td>MA</td>\n      <td>01842</td>\n      <td>42.700273</td>\n      <td>-71.161357</td>\n      <td>1923</td>\n    </tr>\n    <tr>\n      <th>4</th>\n      <td>0000016d-3a85-4cca-0000-000000000028</td>\n      <td>e002090d-4e92-300e-b41e-7d1f21dee4c6</td>\n      <td>José3 Valentín837</td>\n      <td>M</td>\n      <td>GENERAL PRACTICE</td>\n      <td>1493 CAMBRIDGE STREET</td>\n      <td>CAMBRIDGE</td>\n      <td>MA</td>\n      <td>02138</td>\n      <td>42.375967</td>\n      <td>-71.118275</td>\n      <td>1098</td>\n    </tr>\n  </tbody>\n</table>\n</div>",
      "text/plain": "                                     Id                          ORGANIZATION  \\\n0  0000016d-3a85-4cca-0000-000000000000  ef58ea08-d883-3957-8300-150554edc8fb   \n1  0000016d-3a85-4cca-0000-00000000000a  69176529-fd1f-3b3f-abce-a0a3626769eb   \n2  0000016d-3a85-4cca-0000-000000000014  5e765f2b-e908-3888-9fc7-df2cb87beb58   \n3  0000016d-3a85-4cca-0000-00000000001e  f1fbcbfb-fcfa-3bd2-b7f4-df20f1b3c3a4   \n4  0000016d-3a85-4cca-0000-000000000028  e002090d-4e92-300e-b41e-7d1f21dee4c6   \n\n                      NAME GENDER        SPECIALITY                  ADDRESS  \\\n0     Beatriz277 Ortega866      F  GENERAL PRACTICE         60 HOSPITAL ROAD   \n1        Buford910 Feil794      M  GENERAL PRACTICE  330 MOUNT AUBURN STREET   \n2  Therese102 Bahringer146      F  GENERAL PRACTICE          211 PARK STREET   \n3       Cedrick207 Lind531      M  GENERAL PRACTICE       ONE GENERAL STREET   \n4        José3 Valentín837      M  GENERAL PRACTICE    1493 CAMBRIDGE STREET   \n\n         CITY STATE    ZIP        LAT        LON  UTILIZATION  \n0  LEOMINSTER    MA  01453  42.520838 -71.770876          478  \n1   CAMBRIDGE    MA  02138  42.375967 -71.118275         1199  \n2   ATTLEBORO    MA  02703  41.931653 -71.294503         1348  \n3    LAWRENCE    MA  01842  42.700273 -71.161357         1923  \n4   CAMBRIDGE    MA  02138  42.375967 -71.118275         1098  "
     },
     "execution_count": 27,
     "metadata": {},
     "output_type": "execute_result"
    }
   ],
   "source": [
    "d['providers'].head()"
   ]
  },
  {
   "cell_type": "code",
   "execution_count": 29,
   "metadata": {},
   "outputs": [
    {
     "data": {
      "text/html": "<div>\n<style scoped>\n    .dataframe tbody tr th:only-of-type {\n        vertical-align: middle;\n    }\n\n    .dataframe tbody tr th {\n        vertical-align: top;\n    }\n\n    .dataframe thead th {\n        text-align: right;\n    }\n</style>\n<table border=\"1\" class=\"dataframe\">\n  <thead>\n    <tr style=\"text-align: right;\">\n      <th></th>\n      <th>Id</th>\n      <th>NAME</th>\n      <th>ADDRESS</th>\n      <th>CITY</th>\n      <th>STATE</th>\n      <th>ZIP</th>\n      <th>LAT</th>\n      <th>LON</th>\n      <th>PHONE</th>\n      <th>REVENUE</th>\n      <th>UTILIZATION</th>\n    </tr>\n  </thead>\n  <tbody>\n    <tr>\n      <th>0</th>\n      <td>ef58ea08-d883-3957-8300-150554edc8fb</td>\n      <td>HEALTHALLIANCE HOSPITALS  INC</td>\n      <td>60 HOSPITAL ROAD</td>\n      <td>LEOMINSTER</td>\n      <td>MA</td>\n      <td>01453</td>\n      <td>42.520838</td>\n      <td>-71.770876</td>\n      <td>9784662000</td>\n      <td>60266.05</td>\n      <td>478</td>\n    </tr>\n    <tr>\n      <th>1</th>\n      <td>69176529-fd1f-3b3f-abce-a0a3626769eb</td>\n      <td>MOUNT AUBURN HOSPITAL</td>\n      <td>330 MOUNT AUBURN STREET</td>\n      <td>CAMBRIDGE</td>\n      <td>MA</td>\n      <td>02138</td>\n      <td>42.375967</td>\n      <td>-71.118275</td>\n      <td>6174923500</td>\n      <td>151453.01</td>\n      <td>1199</td>\n    </tr>\n    <tr>\n      <th>2</th>\n      <td>5e765f2b-e908-3888-9fc7-df2cb87beb58</td>\n      <td>STURDY MEMORIAL HOSPITAL</td>\n      <td>211 PARK STREET</td>\n      <td>ATTLEBORO</td>\n      <td>MA</td>\n      <td>02703</td>\n      <td>41.931653</td>\n      <td>-71.294503</td>\n      <td>5082225200</td>\n      <td>170827.01</td>\n      <td>1348</td>\n    </tr>\n    <tr>\n      <th>3</th>\n      <td>f1fbcbfb-fcfa-3bd2-b7f4-df20f1b3c3a4</td>\n      <td>LAWRENCE GENERAL HOSPITAL</td>\n      <td>ONE GENERAL STREET</td>\n      <td>LAWRENCE</td>\n      <td>MA</td>\n      <td>01842</td>\n      <td>42.700273</td>\n      <td>-71.161357</td>\n      <td>9786834000</td>\n      <td>241322.46</td>\n      <td>1923</td>\n    </tr>\n    <tr>\n      <th>4</th>\n      <td>e002090d-4e92-300e-b41e-7d1f21dee4c6</td>\n      <td>CAMBRIDGE HEALTH ALLIANCE</td>\n      <td>1493 CAMBRIDGE STREET</td>\n      <td>CAMBRIDGE</td>\n      <td>MA</td>\n      <td>02138</td>\n      <td>42.375967</td>\n      <td>-71.118275</td>\n      <td>6176652300</td>\n      <td>137374.57</td>\n      <td>1098</td>\n    </tr>\n  </tbody>\n</table>\n</div>",
      "text/plain": "                                     Id                           NAME  \\\n0  ef58ea08-d883-3957-8300-150554edc8fb  HEALTHALLIANCE HOSPITALS  INC   \n1  69176529-fd1f-3b3f-abce-a0a3626769eb          MOUNT AUBURN HOSPITAL   \n2  5e765f2b-e908-3888-9fc7-df2cb87beb58       STURDY MEMORIAL HOSPITAL   \n3  f1fbcbfb-fcfa-3bd2-b7f4-df20f1b3c3a4      LAWRENCE GENERAL HOSPITAL   \n4  e002090d-4e92-300e-b41e-7d1f21dee4c6      CAMBRIDGE HEALTH ALLIANCE   \n\n                   ADDRESS        CITY STATE    ZIP        LAT        LON  \\\n0         60 HOSPITAL ROAD  LEOMINSTER    MA  01453  42.520838 -71.770876   \n1  330 MOUNT AUBURN STREET   CAMBRIDGE    MA  02138  42.375967 -71.118275   \n2          211 PARK STREET   ATTLEBORO    MA  02703  41.931653 -71.294503   \n3       ONE GENERAL STREET    LAWRENCE    MA  01842  42.700273 -71.161357   \n4    1493 CAMBRIDGE STREET   CAMBRIDGE    MA  02138  42.375967 -71.118275   \n\n        PHONE    REVENUE  UTILIZATION  \n0  9784662000   60266.05          478  \n1  6174923500  151453.01         1199  \n2  5082225200  170827.01         1348  \n3  9786834000  241322.46         1923  \n4  6176652300  137374.57         1098  "
     },
     "execution_count": 29,
     "metadata": {},
     "output_type": "execute_result"
    }
   ],
   "source": [
    "d['organizations'].head()"
   ]
  },
  {
   "cell_type": "code",
   "execution_count": null,
   "metadata": {},
   "outputs": [],
   "source": []
  }
 ],
 "metadata": {
  "kernelspec": {
   "display_name": "Python 3",
   "language": "python",
   "name": "python3"
  },
  "language_info": {
   "codemirror_mode": {
    "name": "ipython",
    "version": 3
   },
   "file_extension": ".py",
   "mimetype": "text/x-python",
   "name": "python",
   "nbconvert_exporter": "python",
   "pygments_lexer": "ipython3",
   "version": "3.7.3"
  }
 },
 "nbformat": 4,
 "nbformat_minor": 2
}